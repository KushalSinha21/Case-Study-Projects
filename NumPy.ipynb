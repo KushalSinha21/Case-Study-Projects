{
 "cells": [
  {
   "cell_type": "markdown",
   "id": "b89316f4",
   "metadata": {},
   "source": [
    "# NumPy"
   ]
  },
  {
   "cell_type": "markdown",
   "id": "29254afd",
   "metadata": {},
   "source": [
    "**NumPy 2D array**"
   ]
  },
  {
   "cell_type": "code",
   "execution_count": 1,
   "id": "25124206",
   "metadata": {},
   "outputs": [
    {
     "name": "stdout",
     "output_type": "stream",
     "text": [
      "[[1 2 3]\n",
      " [4 5 6]\n",
      " [7 8 9]]\n"
     ]
    }
   ],
   "source": [
    "import numpy as np\n",
    "l=[[1,2,3],[4,5,6],[7,8,9]]\n",
    "b=np.array(l,dtype=int)\n",
    "print(b)"
   ]
  },
  {
   "cell_type": "markdown",
   "id": "89ceb7f5",
   "metadata": {},
   "source": [
    "**NumPy 0s and 1s**"
   ]
  },
  {
   "cell_type": "code",
   "execution_count": 3,
   "id": "b11a7f9e",
   "metadata": {},
   "outputs": [
    {
     "name": "stdout",
     "output_type": "stream",
     "text": [
      "0 0 0 0 1 0 0 0 0 0\n"
     ]
    }
   ],
   "source": [
    "#Create an integer array of size 10, where all the values should be 0 but the fifth value should be 1.\n",
    "import numpy as np\n",
    "arr = np.zeros(10, dtype=int)\n",
    "arr[4] = 1\n",
    "print(*arr)"
   ]
  },
  {
   "cell_type": "markdown",
   "id": "b0ea1cf9",
   "metadata": {},
   "source": [
    "**NumPy Inclusive**"
   ]
  },
  {
   "cell_type": "code",
   "execution_count": 4,
   "id": "b7bfa3a8",
   "metadata": {},
   "outputs": [
    {
     "name": "stdout",
     "output_type": "stream",
     "text": [
      "9 10 11 12 13 14 15 16 17 18 19 20 21 22 23 24 25 26 27 28 29 30 31 32 33 34 35 36 37 38 39 40 41 42 43 44 45 46 47 48 49\n"
     ]
    }
   ],
   "source": [
    "#Create an array with values ranging consecutively from 9 to 49 (both inclusive).\n",
    "#Print the Numpy array.\n",
    "import numpy as np\n",
    "b = np.arange(9,50)\n",
    "print(*b)"
   ]
  },
  {
   "cell_type": "markdown",
   "id": "af70630f",
   "metadata": {},
   "source": [
    "**Identity Matrix**"
   ]
  },
  {
   "cell_type": "code",
   "execution_count": 5,
   "id": "884b3820",
   "metadata": {},
   "outputs": [
    {
     "name": "stdout",
     "output_type": "stream",
     "text": [
      "[[1 0 0 0 0 0]\n",
      " [0 1 0 0 0 0]\n",
      " [0 0 1 0 0 0]\n",
      " [0 0 0 1 0 0]\n",
      " [0 0 0 0 1 0]]\n"
     ]
    }
   ],
   "source": [
    "#Create a matrix having diagonal elements as 1 and all other elements as 0 of size (5, 6).\n",
    "import numpy as np\n",
    "b = np.eye(5,6, dtype = int)\n",
    "print(b)"
   ]
  },
  {
   "cell_type": "markdown",
   "id": "c06b7786",
   "metadata": {},
   "source": [
    "**Cut the Rope**"
   ]
  },
  {
   "cell_type": "code",
   "execution_count": 6,
   "id": "9b79aef9",
   "metadata": {},
   "outputs": [
    {
     "name": "stdout",
     "output_type": "stream",
     "text": [
      "0.56\n",
      "1.11\n",
      "1.67\n",
      "2.22\n",
      "2.78\n",
      "3.33\n",
      "3.89\n",
      "4.44\n"
     ]
    }
   ],
   "source": [
    "#You are given a rope of length 5m. Cut the rope into 9 parts such that each part is of equal length\n",
    "import numpy as np\n",
    "arr = np.linspace(0,5,10)\n",
    "for i in range(1, len(arr)-1) :\n",
    "    print(round(arr[i],2))"
   ]
  },
  {
   "cell_type": "markdown",
   "id": "ecfb5cfc",
   "metadata": {},
   "source": [
    "**Print Elements**"
   ]
  },
  {
   "cell_type": "code",
   "execution_count": 7,
   "id": "14fca3eb",
   "metadata": {},
   "outputs": [
    {
     "name": "stdout",
     "output_type": "stream",
     "text": [
      "11 12 13\n",
      "9 14 19\n",
      "11 12 13 14 15 16 17 18 19 20 \n",
      "7 8 12 13 "
     ]
    }
   ],
   "source": [
    "#Given a 2D integer array size (4, 5) with name input_?\n",
    "import numpy as np\n",
    "input_ = np.arange(1,21,1)\n",
    "input_ = input_.reshape(4,5)\n",
    "print(*input_[2,:3])\n",
    "\n",
    "print(*input_[1:4,3])\n",
    "\n",
    "c = input_[2:4,:5]\n",
    "print(*c[0],end=' ')\n",
    "print(*c[1],end=' ')\n",
    "print()\n",
    "\n",
    "c = input_[1:3,1:3]\n",
    "print(*c[0],end=' ')\n",
    "print(*c[1],end=' ')"
   ]
  },
  {
   "cell_type": "markdown",
   "id": "35e3b3ab",
   "metadata": {},
   "source": [
    "**Non-Zero elements**"
   ]
  },
  {
   "cell_type": "code",
   "execution_count": 8,
   "id": "658824fd",
   "metadata": {},
   "outputs": [
    {
     "name": "stdout",
     "output_type": "stream",
     "text": [
      "0 1 4\n"
     ]
    }
   ],
   "source": [
    "#Find indices of non-zero elements from the array [1,2,0,0,4,0] ?\n",
    "#Print the index of non-zero elements.\n",
    "import numpy as np\n",
    "arr = np.array([1,2,0,0,4,0])\n",
    "ind = np.where(arr != 0)\n",
    "print(*ind[0])"
   ]
  },
  {
   "cell_type": "markdown",
   "id": "f9896c40",
   "metadata": {},
   "source": [
    "**Multiples of 3**"
   ]
  },
  {
   "cell_type": "code",
   "execution_count": 9,
   "id": "bf3ff3b4",
   "metadata": {},
   "outputs": [
    {
     "name": "stdout",
     "output_type": "stream",
     "text": [
      "1 4 7\n"
     ]
    }
   ],
   "source": [
    "import numpy as np\n",
    "arr = np.arange(1,20,2)\n",
    "ind = np.where(arr%3 == 0)\n",
    "print(*ind[0])"
   ]
  },
  {
   "cell_type": "markdown",
   "id": "88d6d1f6",
   "metadata": {},
   "source": [
    "**Odd elements**"
   ]
  },
  {
   "cell_type": "code",
   "execution_count": 10,
   "id": "436dafa2",
   "metadata": {},
   "outputs": [
    {
     "name": "stdout",
     "output_type": "stream",
     "text": [
      "-1 2 -1 4 -1 6 -1 8 -1 10\n"
     ]
    }
   ],
   "source": [
    "#Given an integer array of size 10. Replace the odd number in numpy array with -1 ?\n",
    "import numpy as np\n",
    "arr = np.arange(1,11)\n",
    "arr[arr % 2 != 0] = -1\n",
    "print(*arr)"
   ]
  },
  {
   "cell_type": "markdown",
   "id": "f3f3f5a8",
   "metadata": {},
   "source": [
    "**Replace Max**"
   ]
  },
  {
   "cell_type": "code",
   "execution_count": 11,
   "id": "0b8a6369",
   "metadata": {},
   "outputs": [
    {
     "name": "stdout",
     "output_type": "stream",
     "text": [
      "11\n",
      "2\n",
      "13\n",
      "4\n",
      "15\n",
      "6\n",
      "0\n",
      "8\n",
      "19\n"
     ]
    }
   ],
   "source": [
    "#Given an integer array of size 9 and replace the first occurrence of maximum value by 0?\n",
    "import numpy as np\n",
    "arr = np.array([11, 2, 13, 4, 15, 6, 27, 8, 19])\n",
    "arr[arr.argmax()] = 0\n",
    "for i in arr :\n",
    "    print(i)"
   ]
  },
  {
   "cell_type": "markdown",
   "id": "50a6b229",
   "metadata": {},
   "source": [
    "**Negate Elements**"
   ]
  },
  {
   "cell_type": "code",
   "execution_count": 12,
   "id": "e205a056",
   "metadata": {},
   "outputs": [
    {
     "name": "stdout",
     "output_type": "stream",
     "text": [
      "1\n",
      "2\n",
      "-3\n",
      "-4\n",
      "-5\n",
      "-6\n",
      "-7\n",
      "-8\n",
      "9\n",
      "10\n"
     ]
    }
   ],
   "source": [
    "#Given a 1D array, negate all elements which are between 3 and 8 (both inclusive)?\n",
    "import numpy as np\n",
    "arr = np.arange(1,11)\n",
    "arr[2:8] = np.multiply(arr[2:8],-1)\n",
    "for i in arr:\n",
    "    print(i)"
   ]
  },
  {
   "cell_type": "markdown",
   "id": "b18851ac",
   "metadata": {},
   "source": [
    "**Height**"
   ]
  },
  {
   "cell_type": "code",
   "execution_count": 13,
   "id": "f18453a4",
   "metadata": {},
   "outputs": [
    {
     "name": "stdout",
     "output_type": "stream",
     "text": [
      "15 156\n",
      "19 180\n",
      "20 162\n",
      "21 157\n",
      "22 158\n",
      "23 179\n",
      "16 182\n",
      "18 183\n",
      "20 159\n",
      "15 160\n",
      "17 172\n"
     ]
    }
   ],
   "source": [
    "#Given age and height of 20 students in two different numpy arrays with name age and height (in cms). \n",
    "#Print the age of those students whose height is above 155 cm.\n",
    "import numpy as np\n",
    "age=np.array([15,17,19,20,14,21,16,19,13,20,22,23,21,16,18,19,20,15,17,18])\n",
    "height=np.array([156,144,180,162,152,157,154,155,151,150,158,179,126,182,183,154,159,160,172,149])\n",
    "ind = np.where(height > 155)\n",
    "for i in range(len(ind[0])):\n",
    "    print(age[ind[0][i]], height[ind[0][i]])"
   ]
  },
  {
   "cell_type": "markdown",
   "id": "ee8da5be",
   "metadata": {},
   "source": [
    "**Sort by column**"
   ]
  },
  {
   "cell_type": "code",
   "execution_count": 14,
   "id": "3f234d13",
   "metadata": {},
   "outputs": [
    {
     "name": "stdout",
     "output_type": "stream",
     "text": [
      "[[ 6  5  4  3  2]\n",
      " [11 10  9  8  7]\n",
      " [16 15 14 13 12]\n",
      " [21 20 19 18 17]]\n"
     ]
    }
   ],
   "source": [
    "#Sort a given 2D array of shape (4, 5) by 2nd column (i.e. column at index 1) in ascending order.\n",
    "#That means, we should re-arrange complete row based on 2nd columns' values.\n",
    "import numpy as np\n",
    "a = np.array([[21, 20, 19, 18, 17], [16, 15, 14, 13, 12], [11, 10,  9,  8,  7], [ 6,  5,  4,  3,  2]])\n",
    "a = a[a[:, 0].argsort()]\n",
    "print(a)"
   ]
  },
  {
   "cell_type": "markdown",
   "id": "65105598",
   "metadata": {},
   "source": [
    "**Killed in USA**\n"
   ]
  },
  {
   "cell_type": "code",
   "execution_count": null,
   "id": "2c05b150",
   "metadata": {},
   "outputs": [],
   "source": [
    "#Find value of killed column only where country == ‘United States’?\n",
    "#Print 0 in place of missing values.\n",
    "#Print count of Killed as integer value.\n",
    "import numpy as np\n",
    "import csv\n",
    "\n",
    "with open('terrorismData.csv',encoding=\"utf8\") as file_obj :\n",
    "    data = csv.DictReader(file_obj,skipinitialspace=True)\n",
    "\n",
    "    killed = []\n",
    "    country = []\n",
    "    for row in data:\n",
    "        killed.append(row['Killed'])\n",
    "        country.append(row['Country'])\n",
    "\n",
    "    np_killed = np.array(killed)\n",
    "    np_country = np.array(country)\n",
    "    \n",
    "    np_killed[np_killed == ''] = '0.0'\n",
    "    np_killed = np.array(np_killed,dtype=float)\n",
    "    \n",
    "    np_country = np.array(country)\n",
    "    bool_arr = np_country==\"United States\"\n",
    "    ans = np_killed[bool_arr]   \n",
    "    for i in ans:\n",
    "        print(int(i))"
   ]
  },
  {
   "cell_type": "markdown",
   "id": "d37ec00f",
   "metadata": {},
   "source": [
    "**Total Killed in USA**"
   ]
  },
  {
   "cell_type": "code",
   "execution_count": null,
   "id": "afbbe00e",
   "metadata": {},
   "outputs": [],
   "source": [
    "import numpy as np\n",
    "import csv\n",
    "\n",
    "with open('terrorismData.csv',encoding=\"utf8\") as file_obj :\n",
    "    data = csv.DictReader(file_obj,skipinitialspace=True)\n",
    "\n",
    "    killed = []\n",
    "    country = []\n",
    "    for row in data:\n",
    "        killed.append(row['Killed'])\n",
    "        country.append(row['Country'])\n",
    "\n",
    "    np_killed = np.array(killed)\n",
    "    np_country = np.array(country)\n",
    "    \n",
    "    np_killed[np_killed=='']= '0.0'\n",
    "    np_killed = np.array(np_killed,dtype=float)\n",
    "    \n",
    "    np_country = np.array(country)\n",
    "    bool_arr = np_country == \"United States\"\n",
    "    ans = np_killed[bool_arr]\n",
    "    \n",
    "    print(int(np.sum(ans)))\n",
    "    \n",
    "    \n",
    "# Output :  3771 "
   ]
  }
 ],
 "metadata": {
  "kernelspec": {
   "display_name": "Python 3",
   "language": "python",
   "name": "python3"
  },
  "language_info": {
   "codemirror_mode": {
    "name": "ipython",
    "version": 3
   },
   "file_extension": ".py",
   "mimetype": "text/x-python",
   "name": "python",
   "nbconvert_exporter": "python",
   "pygments_lexer": "ipython3",
   "version": "3.8.8"
  }
 },
 "nbformat": 4,
 "nbformat_minor": 5
}
