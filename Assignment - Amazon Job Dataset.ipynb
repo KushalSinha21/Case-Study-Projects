{
 "cells": [
  {
   "cell_type": "markdown",
   "id": "74bec567",
   "metadata": {},
   "source": [
    "#  Amazon Job Dataset"
   ]
  },
  {
   "cell_type": "markdown",
   "id": "7b5735da",
   "metadata": {},
   "source": [
    "**Job Location**"
   ]
  },
  {
   "cell_type": "code",
   "execution_count": null,
   "id": "d409d188",
   "metadata": {},
   "outputs": [],
   "source": [
    "import csv\n",
    "with open ('amazon_jobs_dataset.csv') as fileobj:\n",
    "    filedata = csv.reader(fileobj, skipinitialspace = True)\n",
    "    filelist = list(filedata)\n",
    "    \n",
    "bcount = 0\n",
    "scount = 0\n",
    "for row in filelist:\n",
    "    if row[2]=='US, WA, Seattle ':\n",
    "        scount += 1\n",
    "            \n",
    "    elif row[2]=='IN, KA, Bangalore ':\n",
    "        bcount += 1\n",
    "            \n",
    "print(bcount, end=\" \")\n",
    "print(scount)"
   ]
  },
  {
   "cell_type": "markdown",
   "id": "752be96f",
   "metadata": {},
   "source": [
    "**Job Computer Vision**"
   ]
  },
  {
   "cell_type": "code",
   "execution_count": null,
   "id": "4eb16483",
   "metadata": {},
   "outputs": [],
   "source": [
    "import csv\n",
    "lines=0\n",
    "openingcsv=0\n",
    "Cvision = 0\n",
    "mydict=dict()\n",
    "with open ('amazon_jobs_dataset.csv') as fileobj:\n",
    "    filedata = csv.reader(fileobj)\n",
    "    next(filedata)\n",
    "    file_list = list(filedata)\n",
    "\n",
    "for row in file_list:\n",
    "    if 'Computer Vision' in row[1]:\n",
    "        mydict[row[1]]=mydict.get(row[1],0)+1\n",
    "        Cvision += 1\n",
    "    lines+=1\n",
    "        \n",
    "print(Cvision)"
   ]
  },
  {
   "cell_type": "markdown",
   "id": "7be99b4f",
   "metadata": {},
   "source": [
    "**Job Canada**"
   ]
  },
  {
   "cell_type": "code",
   "execution_count": null,
   "id": "c750416d",
   "metadata": {},
   "outputs": [],
   "source": [
    "import csv\n",
    "country='CA'\n",
    "c_job=0 \n",
    "with open('amazon_jobs_dataset.csv',encoding='utf-8') as fileobj:\n",
    "    filelist=csv.DictReader(fileobj)\n",
    "    for row in filelist:\n",
    "        if row['location'].split(',')[0]==country:\n",
    "            c_job+=1\n",
    "print(c_job)"
   ]
  },
  {
   "cell_type": "markdown",
   "id": "06ea6f0d",
   "metadata": {},
   "source": [
    "**Job Month 2018**"
   ]
  },
  {
   "cell_type": "code",
   "execution_count": null,
   "id": "8d424088",
   "metadata": {},
   "outputs": [],
   "source": [
    "import csv\n",
    "posting_date=[]\n",
    "path='amazon_jobs_dataset.csv'\n",
    "\n",
    "with open(path,'r',encoding='utf-8') as csvFile:\n",
    "    reader=csv.DictReader(csvFile)\n",
    "    for row in reader:\n",
    "        posting_date.append(row['Posting_date'])\n",
    "\n",
    "def getTheJobYearList(arr,year):\n",
    "    year_list=[]\n",
    "    for i in arr:\n",
    "        if i.split(' ')[-1]==year:\n",
    "            year_list.append(i)\n",
    "    return year_list\n",
    "year2018=getTheJobYearList(posting_date,'2018')\n",
    "\n",
    "def getTheMonthList(arr):\n",
    "    month=[]\n",
    "    for i in arr:\n",
    "        month.append(i.split(' ')[0])\n",
    "    return month\n",
    "\n",
    "def createDictionary(arr):\n",
    "    dictionary={i:0 for i in set(arr)}\n",
    "    for i in arr:\n",
    "        dictionary[i]=dictionary.get(i)+1\n",
    "    return dictionary\n",
    "dictionary=createDictionary(getTheMonthList(year2018))\n",
    "\n",
    "def convertDictToList(dictionary):\n",
    "    month_job=[]\n",
    "    for i in dictionary:\n",
    "        month_job.append([dictionary.get(i),i])\n",
    "    month_job.sort(reverse=True)\n",
    "    return month_job\n",
    "month2018=convertDictToList(dictionary)\n",
    "print(month2018[0][1],month2018[0][0])"
   ]
  },
  {
   "cell_type": "markdown",
   "id": "80a7805f",
   "metadata": {},
   "source": [
    "**Job Degree**"
   ]
  },
  {
   "cell_type": "code",
   "execution_count": null,
   "id": "b02cbd29",
   "metadata": {},
   "outputs": [],
   "source": [
    "import pandas as pd\n",
    "df = pd.read_csv(\"amazon_jobs_dataset.csv\")\n",
    "l = []\n",
    "for i in range(len(df[\"BASIC QUALIFICATIONS\"])):\n",
    "    try:\n",
    "        if \"Bachelor\" in df[\"BASIC QUALIFICATIONS\"][i] or \"BS\" in df[\"BASIC QUALIFICATIONS\"][i] or \"BA\" in df[\"BASIC QUALIFICATIONS\"][i]:\n",
    "            l.append(i)\n",
    "    except:\n",
    "        pass\n",
    "print(len(l))"
   ]
  },
  {
   "cell_type": "markdown",
   "id": "ce40a183",
   "metadata": {},
   "source": [
    "**Job Language**"
   ]
  },
  {
   "cell_type": "code",
   "execution_count": null,
   "id": "7948ba37",
   "metadata": {},
   "outputs": [],
   "source": [
    "import csv\n",
    "path='amazon_jobs_dataset.csv'\n",
    "country_basic_qualifications=[]\n",
    "with open(path,'r',encoding='utf-8') as csvFile:\n",
    "    reader=csv.DictReader(csvFile)\n",
    "    for row in reader:\n",
    "        country_basic_qualifications.append([row['location'],row['BASIC QUALIFICATIONS']])\n",
    "\n",
    "def getCountryJobOpening(arr,country_code):\n",
    "    arrlist=[]\n",
    "    for i in arr:\n",
    "        if i[0].split(',')[0]==country_code:\n",
    "            arrlist.append(i[1])\n",
    "    return arrlist\n",
    "\n",
    "india_list=getCountryJobOpening(country_basic_qualifications,'IN')\n",
    "\n",
    "def getJobBachelorList(arr):\n",
    "    arrlist=[]\n",
    "    for i in arr:\n",
    "        if 'Bachelor' in i or 'BS' in i or 'BA' in i:\n",
    "            arrlist.append(i)\n",
    "    return arrlist\n",
    "    \n",
    "india_bachelor_list=getJobBachelorList(india_list)\n",
    "\n",
    "def getTheDeveloper(arr,language):\n",
    "    arrlist=[]\n",
    "    for i in arr:\n",
    "        if language in i:\n",
    "            arrlist.append(i)\n",
    "    return arrlist\n",
    "\n",
    "java=[len(getTheDeveloper(india_bachelor_list,'Java')),'Java']\n",
    "Cplus=[len(getTheDeveloper(india_bachelor_list,'C++')),'C++']\n",
    "py=[len(getTheDeveloper(india_bachelor_list,'Python')),'Python']\n",
    "maximum=max(java,Cplus,py)\n",
    "print(maximum[1],maximum[0])"
   ]
  },
  {
   "cell_type": "markdown",
   "id": "56350aec",
   "metadata": {},
   "source": [
    "**Job Java**"
   ]
  },
  {
   "cell_type": "code",
   "execution_count": null,
   "id": "cf72a647",
   "metadata": {},
   "outputs": [],
   "source": [
    "import csv\n",
    "with open(\"amazon_jobs_dataset.csv\",errors='ignore') as file_:\n",
    "    file_name=csv.DictReader(file_,skipinitialspace=True)\n",
    "    c=0\n",
    "    d={}\n",
    "    for i in file_name:\n",
    "        a=i[\"location\"].split(\",\")\n",
    "        if \"Java\" in i[\"BASIC QUALIFICATIONS\"]:\n",
    "            d[a[0]]=d.get(a[0],0)+1\n",
    "        \n",
    "        \n",
    "    j=0\n",
    "    max=0\n",
    "    for i in d:\n",
    "        if (int(d[i])>max):\n",
    "            j=i\n",
    "            max=int(d[i])\n",
    "    print(j,d[j])"
   ]
  }
 ],
 "metadata": {
  "kernelspec": {
   "display_name": "Python 3",
   "language": "python",
   "name": "python3"
  },
  "language_info": {
   "codemirror_mode": {
    "name": "ipython",
    "version": 3
   },
   "file_extension": ".py",
   "mimetype": "text/x-python",
   "name": "python",
   "nbconvert_exporter": "python",
   "pygments_lexer": "ipython3",
   "version": "3.8.8"
  }
 },
 "nbformat": 4,
 "nbformat_minor": 5
}
