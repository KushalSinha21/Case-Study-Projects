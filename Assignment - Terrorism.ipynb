{
 "cells": [
  {
   "cell_type": "markdown",
   "id": "a695d668",
   "metadata": {},
   "source": [
    "**Terrorism Day**\n"
   ]
  },
  {
   "cell_type": "code",
   "execution_count": null,
   "id": "e3d3b55c",
   "metadata": {},
   "outputs": [],
   "source": [
    "#Find the number of attack held between day 10 and day 20?(ignoring the year and month)(including both day)\n",
    "#Print count of NumberOFAttack as integer value.\n",
    "\n",
    "import numpy as np\n",
    "import csv\n",
    "\n",
    "with open('terrorismData.csv',encoding=\"utf8\") as file_obj :\n",
    "    data = csv.DictReader(file_obj,skipinitialspace=True)\n",
    "    \n",
    "    days = []\n",
    "    for row in data:\n",
    "        days.append(row['Day'])\n",
    "        \n",
    "    np_days = np.array(days, dtype=float)\n",
    "    ans = np_days[(np_days>=10) & (np_days<=20)]\n",
    "    print(len(ans))\n",
    "    \n",
    "# Output : 66330 "
   ]
  },
  {
   "cell_type": "markdown",
   "id": "eac61357",
   "metadata": {},
   "source": [
    "**Terrorism Date**"
   ]
  },
  {
   "cell_type": "code",
   "execution_count": null,
   "id": "10e38d1f",
   "metadata": {},
   "outputs": [],
   "source": [
    "import numpy as np\n",
    "import csv\n",
    "\n",
    "with open('terrorismData.csv',encoding=\"utf8\") as file_obj :\n",
    "    data = csv.DictReader(file_obj,skipinitialspace=True)\n",
    "    \n",
    "    days = []\n",
    "    months = []\n",
    "    year = []\n",
    "    for row in data:\n",
    "        days.append(row['Day'])\n",
    "        months.append(row['Month'])\n",
    "        year.append(row['Year'])\n",
    "        \n",
    "    np_day = np.array(days, dtype=float)\n",
    "    np_month = np.array(months, dtype=float)\n",
    "    np_year = np.array(year, dtype=float)\n",
    "    \n",
    "    np_day = np_day[np_month==1]\n",
    "    np_year = np_year[np_month==1]\n",
    "    np_day = np_day[np_year==2010]\n",
    "    \n",
    "    print(len(np_day[np_day!=0]))\n",
    "    \n",
    "# Output : 271"
   ]
  },
  {
   "cell_type": "markdown",
   "id": "e1ad76b7",
   "metadata": {},
   "source": [
    "**Terror Casualty Attack**"
   ]
  },
  {
   "cell_type": "code",
   "execution_count": null,
   "id": "9b7861af",
   "metadata": {},
   "outputs": [],
   "source": [
    "import numpy as np\n",
    "import csv\n",
    "\n",
    "with open('terrorismData.csv',encoding=\"utf8\") as file_obj :\n",
    "    data = csv.DictReader(file_obj,skipinitialspace=True)\n",
    "    \n",
    "    city = []\n",
    "    casualty = []\n",
    "    for row in data:\n",
    "        if row[\"State\"] == \"Jammu and Kashmir\" and row[\"Year\"] == \"1999\" :\n",
    "            if row[\"Month\"] ==\"5\" or row[\"Month\"] == \"6\" or row[\"Month\"] == \"7\" :\n",
    "                casualty.append([row[\"Killed\"],row[\"Wounded\"]])\n",
    "                city.append([row[\"City\"],row['Group']])\n",
    "                \n",
    "    np_city = np.array(city)\n",
    "    np_casualty = np.array(casualty)\n",
    "    \n",
    "    np_casualty[np_casualty==''] = \"0.0\"\n",
    "    np_casualty = np.array(np_casualty, dtype = float)\n",
    "    \n",
    "    np_casualty = np.sum(np_casualty, axis=1)\n",
    "    index = np.argmax(np_casualty)\n",
    "    print(int(np_casualty[index]),np_city[index][0],np_city[index][1])\n",
    "    \n",
    "# Output : 22 Kargil District Separatists "
   ]
  },
  {
   "cell_type": "markdown",
   "id": "9a9fff87",
   "metadata": {},
   "source": [
    "**Terror Casualty Red**"
   ]
  },
  {
   "cell_type": "code",
   "execution_count": null,
   "id": "91e296c5",
   "metadata": {},
   "outputs": [],
   "source": [
    "#Find the casualty in the Red Corridor States ? \n",
    "#Mainly Red corridor states include Jharkhand, Odisha, Andhra Pradesh, and Chhattisgarh.\n",
    "\n",
    "import numpy as np\n",
    "import csv\n",
    "\n",
    "with open('terrorismData.csv',encoding=\"utf8\") as file_obj :\n",
    "    data = csv.DictReader(file_obj,skipinitialspace=True)\n",
    "    \n",
    "    casualty = []\n",
    "    for row in data:\n",
    "        if row['State']=='Chhattisgarh' or row['State']=='Odisha' or row['State']=='Jharkhand' or row['State']=='Andhra Pradesh':\n",
    "                casualty.append([row[\"Killed\"],row[\"Wounded\"]])\n",
    "\n",
    "    np_casualty = np.array(casualty)\n",
    "    \n",
    "    np_casualty[np_casualty==''] = \"0.0\"\n",
    "    np_casualty = np.array(np_casualty, dtype = float)\n",
    "    \n",
    "    np_casualty = np.sum(np_casualty, axis=1)\n",
    "    total_casualty = np.sum(np_casualty)\n",
    "    print(int(total_casualty))\n",
    "    \n",
    "# Output :  5628 "
   ]
  },
  {
   "cell_type": "markdown",
   "id": "af1eb45a",
   "metadata": {},
   "source": [
    "**Terror City Casualty**"
   ]
  },
  {
   "cell_type": "code",
   "execution_count": null,
   "id": "180bd2c7",
   "metadata": {},
   "outputs": [],
   "source": [
    "#Find top 5 Indian Cities which has most number of casualties ?\n",
    "#Print top 5 cities along with total casualties in that city. Print count of Casualty as integer value.\n",
    "\n",
    "import numpy as np\n",
    "import csv\n",
    "from collections import Counter\n",
    "\n",
    "with open('terrorismData.csv',encoding=\"utf8\") as file_obj :\n",
    "    data = csv.DictReader(file_obj,skipinitialspace=True)\n",
    "    \n",
    "    city = []\n",
    "    casualty = []\n",
    "    for row in data:\n",
    "         if row[\"Country\"] == 'India' and row['City'] != 'Unknown':\n",
    "                casualty.append([row[\"Killed\"],row[\"Wounded\"]])\n",
    "                city.append(row[\"City\"])\n",
    "                \n",
    "    np_city = np.array(city)\n",
    "    np_casualty = np.array(casualty)\n",
    "    \n",
    "    np_casualty[np_casualty==''] = \"0.0\"\n",
    "    np_casualty = np.array(np_casualty, dtype = float)\n",
    "    np_casualty = np.sum(np_casualty, axis=1)\n",
    "    \n",
    "    dic = {}\n",
    "    for i in range(len(np_city)):\n",
    "        if np_city[i] in dic:\n",
    "            dic[np_city[i]] += np_casualty[i]\n",
    "        else:\n",
    "            dic[np_city[i]] = np_casualty[i]\n",
    "\n",
    "    k = Counter(dic) \n",
    "    high = k.most_common(5) \n",
    "    for i in high: \n",
    "        print(i[0],int(i[1]))\n",
    "        \n",
    "# Output:  Srinagar 3134\n",
    "#          New Delhi 2095\n",
    "#          Mumbai 2016\n",
    "#          Jammu 1119\n",
    "#          Guwahati 822 "
   ]
  },
  {
   "cell_type": "markdown",
   "id": "09819669",
   "metadata": {},
   "source": [
    "**Terrorism FrequentDay**"
   ]
  },
  {
   "cell_type": "code",
   "execution_count": null,
   "id": "3a15d00d",
   "metadata": {},
   "outputs": [],
   "source": [
    "#Find the most frequent day of attack in a terrorismDataset\n",
    "\n",
    "import numpy as np\n",
    "import csv\n",
    "\n",
    "with open('terrorismData.csv',encoding=\"utf8\") as file_obj :\n",
    "    data = csv.DictReader(file_obj,skipinitialspace=True)\n",
    "    \n",
    "    day = []\n",
    "    for row in data:\n",
    "        day.append(row['Day'])\n",
    "        \n",
    "    np_day = np.array(day, dtype='int')\n",
    "    day, count = np.unique(np_day, return_counts=True)\n",
    "    index = np.argmax(count)\n",
    "    print(day[index], count[index])\n",
    "    \n",
    "# Output : 15 6500 "
   ]
  }
 ],
 "metadata": {
  "kernelspec": {
   "display_name": "Python 3",
   "language": "python",
   "name": "python3"
  },
  "language_info": {
   "codemirror_mode": {
    "name": "ipython",
    "version": 3
   },
   "file_extension": ".py",
   "mimetype": "text/x-python",
   "name": "python",
   "nbconvert_exporter": "python",
   "pygments_lexer": "ipython3",
   "version": "3.8.8"
  }
 },
 "nbformat": 4,
 "nbformat_minor": 5
}
