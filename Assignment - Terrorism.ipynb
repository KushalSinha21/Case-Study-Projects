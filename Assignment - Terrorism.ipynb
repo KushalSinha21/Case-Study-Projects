{
 "cells": [
  {
   "cell_type": "markdown",
   "id": "a695d668",
   "metadata": {},
   "source": [
    "**Terrorism Day**\n"
   ]
  },
  {
   "cell_type": "code",
   "execution_count": null,
   "id": "e3d3b55c",
   "metadata": {},
   "outputs": [],
   "source": [
    "#Find the number of attack held between day 10 and day 20?(ignoring the year and month)(including both day)\n",
    "#Print count of NumberOFAttack as integer value.\n",
    "\n",
    "import numpy as np\n",
    "import csv\n",
    "\n",
    "with open('terrorismData.csv',encoding=\"utf8\") as file_obj :\n",
    "    data = csv.DictReader(file_obj,skipinitialspace=True)\n",
    "    \n",
    "    days = []\n",
    "    for row in data:\n",
    "        days.append(row['Day'])\n",
    "        \n",
    "    np_days = np.array(days, dtype=float)\n",
    "    ans = np_days[(np_days>=10) & (np_days<=20)]\n",
    "    print(len(ans))\n",
    "    \n",
    "# Output : 66330 "
   ]
  },
  {
   "cell_type": "markdown",
   "id": "eac61357",
   "metadata": {},
   "source": [
    "**Terrorism Date**"
   ]
  },
  {
   "cell_type": "code",
   "execution_count": null,
   "id": "10e38d1f",
   "metadata": {},
   "outputs": [],
   "source": [
    "import numpy as np\n",
    "import csv\n",
    "\n",
    "with open('terrorismData.csv',encoding=\"utf8\") as file_obj :\n",
    "    data = csv.DictReader(file_obj,skipinitialspace=True)\n",
    "    \n",
    "    days = []\n",
    "    months = []\n",
    "    year = []\n",
    "    for row in data:\n",
    "        days.append(row['Day'])\n",
    "        months.append(row['Month'])\n",
    "        year.append(row['Year'])\n",
    "        \n",
    "    np_day = np.array(days, dtype=float)\n",
    "    np_month = np.array(months, dtype=float)\n",
    "    np_year = np.array(year, dtype=float)\n",
    "    \n",
    "    np_day = np_day[np_month==1]\n",
    "    np_year = np_year[np_month==1]\n",
    "    np_day = np_day[np_year==2010]\n",
    "    \n",
    "    print(len(np_day[np_day!=0]))\n",
    "    \n",
    "# Output : 271"
   ]
  },
  {
   "cell_type": "markdown",
   "id": "e1ad76b7",
   "metadata": {},
   "source": [
    "**Terror Casualty Attack**"
   ]
  },
  {
   "cell_type": "code",
   "execution_count": null,
   "id": "9b7861af",
   "metadata": {},
   "outputs": [],
   "source": [
    "import numpy as np\n",
    "import csv\n",
    "\n",
    "with open('terrorismData.csv',encoding=\"utf8\") as file_obj :\n",
    "    data = csv.DictReader(file_obj,skipinitialspace=True)\n",
    "    \n",
    "    city = []\n",
    "    casualty = []\n",
    "    for row in data:\n",
    "        if row[\"State\"] == \"Jammu and Kashmir\" and row[\"Year\"] == \"1999\" :\n",
    "            if row[\"Month\"] ==\"5\" or row[\"Month\"] == \"6\" or row[\"Month\"] == \"7\" :\n",
    "                casualty.append([row[\"Killed\"],row[\"Wounded\"]])\n",
    "                city.append([row[\"City\"],row['Group']])\n",
    "                \n",
    "    np_city = np.array(city)\n",
    "    np_casualty = np.array(casualty)\n",
    "    \n",
    "    np_casualty[np_casualty==''] = \"0.0\"\n",
    "    np_casualty = np.array(np_casualty, dtype = float)\n",
    "    \n",
    "    np_casualty = np.sum(np_casualty, axis=1)\n",
    "    index = np.argmax(np_casualty)\n",
    "    print(int(np_casualty[index]),np_city[index][0],np_city[index][1])\n",
    "    \n",
    "# Output : 22 Kargil District Separatists "
   ]
  },
  {
   "cell_type": "markdown",
   "id": "9a9fff87",
   "metadata": {},
   "source": [
    "**Terror Casualty Red**"
   ]
  },
  {
   "cell_type": "code",
   "execution_count": null,
   "id": "91e296c5",
   "metadata": {},
   "outputs": [],
   "source": [
    "#Find the casualty in the Red Corridor States ? \n",
    "#Mainly Red corridor states include Jharkhand, Odisha, Andhra Pradesh, and Chhattisgarh.\n",
    "\n",
    "import numpy as np\n",
    "import csv\n",
    "\n",
    "with open('terrorismData.csv',encoding=\"utf8\") as file_obj :\n",
    "    data = csv.DictReader(file_obj,skipinitialspace=True)\n",
    "    \n",
    "    casualty = []\n",
    "    for row in data:\n",
    "        if row['State']=='Chhattisgarh' or row['State']=='Odisha' or row['State']=='Jharkhand' or row['State']=='Andhra Pradesh':\n",
    "                casualty.append([row[\"Killed\"],row[\"Wounded\"]])\n",
    "\n",
    "    np_casualty = np.array(casualty)\n",
    "    \n",
    "    np_casualty[np_casualty==''] = \"0.0\"\n",
    "    np_casualty = np.array(np_casualty, dtype = float)\n",
    "    \n",
    "    np_casualty = np.sum(np_casualty, axis=1)\n",
    "    total_casualty = np.sum(np_casualty)\n",
    "    print(int(total_casualty))\n",
    "    \n",
    "# Output :  5628 "
   ]
  },
  {
   "cell_type": "markdown",
   "id": "af1eb45a",
   "metadata": {},
   "source": [
    "**Terror City Casualty**"
   ]
  },
  {
   "cell_type": "code",
   "execution_count": null,
   "id": "180bd2c7",
   "metadata": {},
   "outputs": [],
   "source": [
    "#Find top 5 Indian Cities which has most number of casualties ?\n",
    "#Print top 5 cities along with total casualties in that city. Print count of Casualty as integer value.\n",
    "\n",
    "import numpy as np\n",
    "import csv\n",
    "from collections import Counter\n",
    "\n",
    "with open('terrorismData.csv',encoding=\"utf8\") as file_obj :\n",
    "    data = csv.DictReader(file_obj,skipinitialspace=True)\n",
    "    \n",
    "    city = []\n",
    "    casualty = []\n",
    "    for row in data:\n",
    "         if row[\"Country\"] == 'India' and row['City'] != 'Unknown':\n",
    "                casualty.append([row[\"Killed\"],row[\"Wounded\"]])\n",
    "                city.append(row[\"City\"])\n",
    "                \n",
    "    np_city = np.array(city)\n",
    "    np_casualty = np.array(casualty)\n",
    "    \n",
    "    np_casualty[np_casualty==''] = \"0.0\"\n",
    "    np_casualty = np.array(np_casualty, dtype = float)\n",
    "    np_casualty = np.sum(np_casualty, axis=1)\n",
    "    \n",
    "    dic = {}\n",
    "    for i in range(len(np_city)):\n",
    "        if np_city[i] in dic:\n",
    "            dic[np_city[i]] += np_casualty[i]\n",
    "        else:\n",
    "            dic[np_city[i]] = np_casualty[i]\n",
    "\n",
    "    k = Counter(dic) \n",
    "    high = k.most_common(5) \n",
    "    for i in high: \n",
    "        print(i[0],int(i[1]))\n",
    "        \n",
    "# Output:  Srinagar 3134\n",
    "#          New Delhi 2095\n",
    "#          Mumbai 2016\n",
    "#          Jammu 1119\n",
    "#          Guwahati 822 "
   ]
  },
  {
   "cell_type": "markdown",
   "id": "09819669",
   "metadata": {},
   "source": [
    "**Terrorism FrequentDay**"
   ]
  },
  {
   "cell_type": "code",
   "execution_count": null,
   "id": "3a15d00d",
   "metadata": {},
   "outputs": [],
   "source": [
    "#Find the most frequent day of attack in a terrorismDataset\n",
    "\n",
    "import numpy as np\n",
    "import csv\n",
    "\n",
    "with open('terrorismData.csv',encoding=\"utf8\") as file_obj :\n",
    "    data = csv.DictReader(file_obj,skipinitialspace=True)\n",
    "    \n",
    "    day = []\n",
    "    for row in data:\n",
    "        day.append(row['Day'])\n",
    "        \n",
    "    np_day = np.array(day, dtype='int')\n",
    "    day, count = np.unique(np_day, return_counts=True)\n",
    "    index = np.argmax(count)\n",
    "    print(day[index], count[index])\n",
    "    \n",
    "# Output : 15 6500 "
   ]
  },
  {
   "cell_type": "markdown",
   "id": "af864206",
   "metadata": {},
   "source": [
    "**Terror Attack City**"
   ]
  },
  {
   "cell_type": "code",
   "execution_count": null,
   "id": "6706aae6",
   "metadata": {},
   "outputs": [],
   "source": [
    "#The Most Dangerous city in Jammu and Kashmir and the terrorist group which is most active in that city?\n",
    "#Print count of number of attacks in that city as integer value.\n",
    "\n",
    "import pandas as pd\n",
    "path='terrorismData.csv'\n",
    "df_terrorism=pd.read_csv(path,encoding='ISO-8859-1')\n",
    "df_terrorism = df_terrorism[df_terrorism['State']=='Jammu and Kashmir']\n",
    "city_list=df_terrorism['City'].value_counts()\n",
    "city=city_list.index[0]\n",
    "attack=city_list.values[0]\n",
    "df_terrorism=df_terrorism[df_terrorism['City'] == city]\n",
    "group=df_terrorism['Group'].value_counts().index[1]\n",
    "print(city,attack,group)\n",
    "\n",
    "# Output :  Srinagar 657 Muslim Separatists "
   ]
  },
  {
   "cell_type": "markdown",
   "id": "1205cf58",
   "metadata": {},
   "source": [
    "**Terror Government**"
   ]
  },
  {
   "cell_type": "code",
   "execution_count": null,
   "id": "0185f1e1",
   "metadata": {},
   "outputs": [],
   "source": [
    "#There was formation of new government in India on 26 May 2014.\n",
    "#So current government's span is from 26th May 2014 to current. Find out two things from this period-\n",
    "#1. Total number of attacks done in this period in India. Find this count as integer.\n",
    "#2. Which Terrorist group was most active in this period in India. Most active means, group which has done maximum number of attacks. \n",
    "#3.Ignore the Unknown group. \n",
    "\n",
    "import pandas as pd\n",
    "import numpy as np\n",
    "df = pd.read_csv('terrorismData.csv')\n",
    "\n",
    "a = df[df.Day>=26]\n",
    "b = a[a.Year==2014]\n",
    "c = b[b.Country=='India']\n",
    "ans1 = c[c.Month==5]\n",
    "\n",
    "d = df[df.Year==2014]\n",
    "e = d[d.Country=='India']\n",
    "ans2 = e[e.Month>5]\n",
    "\n",
    "f = df[df.Country=='India']\n",
    "ans3 = f[f.Year>2014]\n",
    "\n",
    "count = ans1.shape[0] + ans2.shape[0] + ans3.shape[0]\n",
    "\n",
    "ans1=ans1[ans1.Group!='Unknown']\n",
    "ans2=ans2[ans2.Group!='Unknown']\n",
    "ans3=ans3[ans3.Group!='Unknown']\n",
    "\n",
    "print(count,ans3.Group.describe().top)\n",
    "\n",
    "# Output :  3336 Maoists "
   ]
  },
  {
   "cell_type": "markdown",
   "id": "ddbe34a9",
   "metadata": {},
   "source": [
    "**Terror Frequency**"
   ]
  },
  {
   "cell_type": "code",
   "execution_count": null,
   "id": "f2226117",
   "metadata": {},
   "outputs": [],
   "source": [
    "#Find the frequency of the Casualty in Red Corridor states and in Jammu and Kashmir ?\n",
    "#Here Frequency is (Total Casualty/Total Number of a year)\n",
    "#Print frequency as integer value.\n",
    "\n",
    "import pandas as pd\n",
    "import numpy as np\n",
    "df = pd.read_csv('terrorismData.csv')\n",
    "\n",
    "year = len(set(df['Year']))\n",
    "\n",
    "df = df[df.Country == 'India']\n",
    "df['Casualty'] = df['Killed'] + df['Wounded']\n",
    "\n",
    "jk = df[df.State == 'Jammu and Kashmir']\n",
    "rc = df[(df.State == 'Jharkhand') | (df.State == 'Odisha') | (df.State == 'Andhra Pradesh') | (df.State == 'Chhattisgarh')]\n",
    "\n",
    "jkc = int(np.sum(jk['Casualty']))\n",
    "rcc = int(np.sum(rc['Casualty']))\n",
    "\n",
    "print(rcc//year,jkc//year)\n",
    "\n",
    "# Output :  115 261 "
   ]
  },
  {
   "cell_type": "markdown",
   "id": "9ef9f226",
   "metadata": {},
   "source": [
    "**Terror DeadliestAttack**"
   ]
  },
  {
   "cell_type": "code",
   "execution_count": null,
   "id": "450f1232",
   "metadata": {},
   "outputs": [],
   "source": [
    "#Most Deadliest attack in a history of HumanKind?\n",
    "#Print count of Killed people as integer value.\n",
    "\n",
    "import pandas as pd\n",
    "df = pd.read_csv('terrorismData.csv')\n",
    "\n",
    "df = df[df.Killed==df.Killed.max()]\n",
    "mx_killed = df.Killed.iloc[0]\n",
    "country = df.Country.iloc[0]\n",
    "group = df.Group.iloc[0]\n",
    "print(int(mx_killed), country, group)\n",
    "\n",
    "# Output : 1570 Iraq Islamic State of Iraq and the Levant (ISIL) "
   ]
  },
  {
   "cell_type": "markdown",
   "id": "fc479b5b",
   "metadata": {},
   "source": [
    "**Terror Attack**"
   ]
  },
  {
   "cell_type": "code",
   "execution_count": null,
   "id": "98957dcb",
   "metadata": {},
   "outputs": [],
   "source": [
    "#Find out the Country with Highest Number of Terror Attack and in which year the most number of terrorist attack happened in that country ?\n",
    "#Print count of terror attacks as integer value.\n",
    "\n",
    "import pandas as pd\n",
    "df=pd.read_csv(\"terrorismData.csv\")\n",
    "df=df[df['Country']=='Iraq']\n",
    "da=df['AttackType'].count()\n",
    "dt=df[\"Year\"].value_counts().index[0]\n",
    "print('Iraq',da,dt)\n",
    "\n",
    "# Ouput :  Iraq 24636 2014 "
   ]
  }
 ],
 "metadata": {
  "kernelspec": {
   "display_name": "Python 3",
   "language": "python",
   "name": "python3"
  },
  "language_info": {
   "codemirror_mode": {
    "name": "ipython",
    "version": 3
   },
   "file_extension": ".py",
   "mimetype": "text/x-python",
   "name": "python",
   "nbconvert_exporter": "python",
   "pygments_lexer": "ipython3",
   "version": "3.8.8"
  }
 },
 "nbformat": 4,
 "nbformat_minor": 5
}
