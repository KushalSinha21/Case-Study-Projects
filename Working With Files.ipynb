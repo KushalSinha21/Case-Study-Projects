{
 "cells": [
  {
   "cell_type": "markdown",
   "id": "91247b11",
   "metadata": {},
   "source": [
    "# Working With Files\n"
   ]
  },
  {
   "cell_type": "markdown",
   "id": "05b5c420",
   "metadata": {},
   "source": [
    "**Print 100 Bytes**"
   ]
  },
  {
   "cell_type": "code",
   "execution_count": null,
   "id": "4d62c34e",
   "metadata": {},
   "outputs": [],
   "source": [
    "a = open('Sample.txt')\n",
    "b = a.read(100)\n",
    "print(b)"
   ]
  },
  {
   "cell_type": "markdown",
   "id": "fe13f8f4",
   "metadata": {},
   "source": [
    "**Print 5 lines**"
   ]
  },
  {
   "cell_type": "code",
   "execution_count": null,
   "id": "779bdfcf",
   "metadata": {},
   "outputs": [],
   "source": [
    "a = open('Sample.txt')\n",
    "b = a.readline()\n",
    "print(b)\n",
    "print(a.readline())\n",
    "print(a.readline())\n",
    "print(a.readline())\n",
    "print(a.readline())"
   ]
  },
  {
   "cell_type": "markdown",
   "id": "73083cfd",
   "metadata": {},
   "source": [
    "**First 3 lines**"
   ]
  },
  {
   "cell_type": "code",
   "execution_count": null,
   "id": "83148f53",
   "metadata": {},
   "outputs": [],
   "source": [
    "#Open and read the file\n",
    "#Print the first 3 rows of the file, excluding header (in different lines)\n",
    "#Print columns of one row, separated by space\n",
    "\n",
    "import csv\n",
    "with open('year2017.csv') as file_:\n",
    "    file_name=csv.reader(file_)\n",
    "    file_name=list(file_name)\n",
    "    for i in range(1,4):\n",
    "        for j in file_name[i]:\n",
    "            print(j,end=' ')\n",
    "        print()"
   ]
  },
  {
   "cell_type": "markdown",
   "id": "f1e17b83",
   "metadata": {},
   "source": [
    "**Print all column names**"
   ]
  },
  {
   "cell_type": "code",
   "execution_count": null,
   "id": "70e21510",
   "metadata": {},
   "outputs": [],
   "source": [
    "#Open and read the file\n",
    "#Print the name of columns (in different lines)\n",
    "\n",
    "import csv\n",
    "with open('year2017.csv') as file_obj:\n",
    "    file_data = csv.reader(file_obj)\n",
    "    file_list = list(file_data)\n",
    "    for row in file_list[0]:\n",
    "        print(row)"
   ]
  },
  {
   "cell_type": "markdown",
   "id": "f1167195",
   "metadata": {},
   "source": [
    "**Country Names**"
   ]
  },
  {
   "cell_type": "code",
   "execution_count": null,
   "id": "2482e4cc",
   "metadata": {},
   "outputs": [],
   "source": [
    "#Print the country names from first 10 rows (in different lines)\n",
    "\n",
    "import csv\n",
    "\n",
    "with open('year2017.csv') as my_csv:\n",
    "    data = csv.reader(my_csv)\n",
    "    data = list(data)\n",
    "    \n",
    "Country = []\n",
    "for row in data[1:11]:\n",
    "    Country.append(row[3])\n",
    "Country\n",
    "for i in Country:\n",
    "    print(i)"
   ]
  },
  {
   "cell_type": "markdown",
   "id": "bf5364f9",
   "metadata": {},
   "source": [
    "**Total Wounded People**"
   ]
  },
  {
   "cell_type": "code",
   "execution_count": null,
   "id": "84057035",
   "metadata": {},
   "outputs": [],
   "source": [
    "#Find and print the total number of wounded people.\n",
    "#Print the count as integer value.\n",
    "\n",
    "import csv\n",
    "\n",
    "with open('year2017.csv','r') as my_csv:\n",
    "    data = csv.reader(my_csv, skipinitialspace= True)\n",
    "    data = list(data)\n",
    "\n",
    "Wounded =[]\n",
    "\n",
    "for i in range(1, len(data)):\n",
    "    a = data[i][10]\n",
    "    if a == ' ' or a == '':\n",
    "        a = 0\n",
    "    Wounded.append(float(a))\n",
    "ans = (int(sum(Wounded)))\n",
    "print(ans)"
   ]
  },
  {
   "cell_type": "markdown",
   "id": "ed85e448",
   "metadata": {},
   "source": [
    "**Total Wounded from India**"
   ]
  },
  {
   "cell_type": "code",
   "execution_count": null,
   "id": "ad704efc",
   "metadata": {},
   "outputs": [],
   "source": [
    "#Find and print the total number of wounded people who are from country \"India\".\n",
    "#Print the count as integer value.\n",
    "\n",
    "import csv\n",
    "\n",
    "with open('year2017.csv','r') as my_csv:\n",
    "    data = csv.reader(my_csv, skipinitialspace= True)\n",
    "    data = list(data)\n",
    "\n",
    "india_Wounded =[]\n",
    "\n",
    "for row in data[1:]:\n",
    "    val = row[3]  \n",
    "    temp = row[10] \n",
    "    if( val== 'India' and temp !=''): \n",
    "        india_Wounded.append(float(temp)) \n",
    "\n",
    "print(int(sum(india_Wounded)))"
   ]
  },
  {
   "cell_type": "markdown",
   "id": "70cec07a",
   "metadata": {},
   "source": [
    "**Casualties from Explosives**"
   ]
  },
  {
   "cell_type": "code",
   "execution_count": null,
   "id": "5fe0eb9d",
   "metadata": {},
   "outputs": [],
   "source": [
    "#Find and print total number of casualties with “Explosives” Weapon_type.\n",
    "#Print the count as integer value.\n",
    "\n",
    "import csv\n",
    "\n",
    "with open('year2017.csv' ,'r') as file_obj:\n",
    "    file_data = csv.DictReader(file_obj, skipinitialspace = True)\n",
    "    lis = []\n",
    "    for row in file_data:\n",
    "        val = row['Weapon_type']\n",
    "        temp = row['casualities']\n",
    "        if(val == 'Explosives' and temp!=''):\n",
    "            lis.append(float(temp))\n",
    "print(int(sum(lis)))"
   ]
  },
  {
   "cell_type": "markdown",
   "id": "1417b73f",
   "metadata": {},
   "source": [
    "**Country vs Casualties**"
   ]
  },
  {
   "cell_type": "code",
   "execution_count": null,
   "id": "7821d508",
   "metadata": {},
   "outputs": [],
   "source": [
    "#Find total number of casualties in each country.\n",
    "#Print number of casualties as integer value.\n",
    "\n",
    "import csv\n",
    "with open('year2017.csv') as file_obj:\n",
    "    file_data = csv.DictReader(file_obj,skipinitialspace = True)\n",
    "    \n",
    "    Country_casu = {}\n",
    "    \n",
    "    for row in file_data:\n",
    "        key = row['Country']\n",
    "        value = row['casualities']\n",
    "        \n",
    "        if value != \"\":\n",
    "            value = int(float(value))\n",
    "            \n",
    "        else:\n",
    "            value = 0\n",
    "            \n",
    "        if key in Country_casu:\n",
    "            Country_casu[key] +=value\n",
    "            \n",
    "        else:\n",
    "            Country_casu[key] = value\n",
    "            \n",
    "    for i in Country_casu:\n",
    "        print(i,Country_casu[i])"
   ]
  },
  {
   "cell_type": "markdown",
   "id": "a9de3746",
   "metadata": {},
   "source": [
    "**Month vs Killed**"
   ]
  },
  {
   "cell_type": "code",
   "execution_count": null,
   "id": "c672b5b3",
   "metadata": {},
   "outputs": [],
   "source": [
    "#Find the total number people killed in each month.\n",
    "#Print the month and count of killed people as integer value.\n",
    "\n",
    "import csv\n",
    "with open('year2017.csv') as file_obj:\n",
    "    file_data=csv.DictReader(file_obj,skipinitialspace=True)\n",
    "    \n",
    "    month_killed={}\n",
    "    for row in file_data:\n",
    "        key=row[\"Month\"]\n",
    "        value=row[\"Killed\"]\n",
    "        \n",
    "        if value!=\"\":\n",
    "            value=int(float(value))\n",
    "        else:\n",
    "            value=0\n",
    "            \n",
    "        if key in month_killed:\n",
    "            month_killed[key]+=value\n",
    "        else:\n",
    "            month_killed[key]=value\n",
    "            \n",
    "    for w in month_killed:\n",
    "        print(w,month_killed[w])"
   ]
  }
 ],
 "metadata": {
  "kernelspec": {
   "display_name": "Python 3",
   "language": "python",
   "name": "python3"
  },
  "language_info": {
   "codemirror_mode": {
    "name": "ipython",
    "version": 3
   },
   "file_extension": ".py",
   "mimetype": "text/x-python",
   "name": "python",
   "nbconvert_exporter": "python",
   "pygments_lexer": "ipython3",
   "version": "3.8.8"
  }
 },
 "nbformat": 4,
 "nbformat_minor": 5
}
